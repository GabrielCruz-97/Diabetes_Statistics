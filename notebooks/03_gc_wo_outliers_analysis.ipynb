{
 "cells": [
  {
   "cell_type": "code",
   "execution_count": 1,
   "metadata": {},
   "outputs": [],
   "source": [
    "import matplotlib.pyplot as plt\n",
    "from matplotlib.ticker import PercentFormatter\n",
    "import numpy as np\n",
    "import pandas as pd\n",
    "from scipy.stats import chi2_contingency, kstest, norm\n",
    "import seaborn as sns\n",
    "\n",
    "# Functions developed for the project\n",
    "from src.statistics import (\n",
    "    levene_analysis,\n",
    "    mannwhitneyu_analysis,\n",
    "    ttest_ind_analysis,\n",
    "    remove_outliers,\n",
    ")\n",
    "from src.config import PROCESSED_DATA"
   ]
  },
  {
   "cell_type": "code",
   "execution_count": 2,
   "metadata": {},
   "outputs": [],
   "source": [
    "df_diabetes_processed = pd.read_parquet(PROCESSED_DATA)\n",
    "\n",
    "numerical_columns = df_diabetes_processed.select_dtypes(include=\"number\").columns.tolist()\n",
    "target_column = \"Diabetes\""
   ]
  },
  {
   "cell_type": "code",
   "execution_count": 3,
   "metadata": {},
   "outputs": [
    {
     "data": {
      "text/html": [
       "<div>\n",
       "<style scoped>\n",
       "    .dataframe tbody tr th:only-of-type {\n",
       "        vertical-align: middle;\n",
       "    }\n",
       "\n",
       "    .dataframe tbody tr th {\n",
       "        vertical-align: top;\n",
       "    }\n",
       "\n",
       "    .dataframe thead th {\n",
       "        text-align: right;\n",
       "    }\n",
       "</style>\n",
       "<table border=\"1\" class=\"dataframe\">\n",
       "  <thead>\n",
       "    <tr style=\"text-align: right;\">\n",
       "      <th></th>\n",
       "      <th>BMI</th>\n",
       "      <th>DaysMentalHealth</th>\n",
       "      <th>DaysPhysicalHealth</th>\n",
       "    </tr>\n",
       "  </thead>\n",
       "  <tbody>\n",
       "    <tr>\n",
       "      <th>count</th>\n",
       "      <td>68511.000000</td>\n",
       "      <td>58876.000000</td>\n",
       "      <td>60068.000000</td>\n",
       "    </tr>\n",
       "    <tr>\n",
       "      <th>mean</th>\n",
       "      <td>29.129673</td>\n",
       "      <td>0.526615</td>\n",
       "      <td>1.880619</td>\n",
       "    </tr>\n",
       "    <tr>\n",
       "      <th>std</th>\n",
       "      <td>5.695466</td>\n",
       "      <td>1.271375</td>\n",
       "      <td>3.727202</td>\n",
       "    </tr>\n",
       "    <tr>\n",
       "      <th>min</th>\n",
       "      <td>13.000000</td>\n",
       "      <td>0.000000</td>\n",
       "      <td>0.000000</td>\n",
       "    </tr>\n",
       "    <tr>\n",
       "      <th>25%</th>\n",
       "      <td>25.000000</td>\n",
       "      <td>0.000000</td>\n",
       "      <td>0.000000</td>\n",
       "    </tr>\n",
       "    <tr>\n",
       "      <th>50%</th>\n",
       "      <td>28.000000</td>\n",
       "      <td>0.000000</td>\n",
       "      <td>0.000000</td>\n",
       "    </tr>\n",
       "    <tr>\n",
       "      <th>75%</th>\n",
       "      <td>33.000000</td>\n",
       "      <td>0.000000</td>\n",
       "      <td>2.000000</td>\n",
       "    </tr>\n",
       "    <tr>\n",
       "      <th>max</th>\n",
       "      <td>45.000000</td>\n",
       "      <td>5.000000</td>\n",
       "      <td>15.000000</td>\n",
       "    </tr>\n",
       "  </tbody>\n",
       "</table>\n",
       "</div>"
      ],
      "text/plain": [
       "                BMI  DaysMentalHealth  DaysPhysicalHealth\n",
       "count  68511.000000      58876.000000        60068.000000\n",
       "mean      29.129673          0.526615            1.880619\n",
       "std        5.695466          1.271375            3.727202\n",
       "min       13.000000          0.000000            0.000000\n",
       "25%       25.000000          0.000000            0.000000\n",
       "50%       28.000000          0.000000            0.000000\n",
       "75%       33.000000          0.000000            2.000000\n",
       "max       45.000000          5.000000           15.000000"
      ]
     },
     "execution_count": 3,
     "metadata": {},
     "output_type": "execute_result"
    }
   ],
   "source": [
    "df_diabetes_wo_outliers = df_diabetes_processed.copy()\n",
    "\n",
    "for column in numerical_columns:\n",
    "    df_diabetes_wo_outliers[column] = remove_outliers(df_diabetes_wo_outliers[column])\n",
    "\n",
    "df_diabetes_wo_outliers.describe()"
   ]
  },
  {
   "cell_type": "code",
   "execution_count": 4,
   "metadata": {},
   "outputs": [
    {
     "name": "stdout",
     "output_type": "stream",
     "text": [
      "<class 'pandas.core.frame.DataFrame'>\n",
      "RangeIndex: 70692 entries, 0 to 70691\n",
      "Data columns (total 22 columns):\n",
      " #   Column                Non-Null Count  Dtype   \n",
      "---  ------                --------------  -----   \n",
      " 0   Diabetes              70692 non-null  category\n",
      " 1   HighBP                70692 non-null  category\n",
      " 2   HighChol              70692 non-null  category\n",
      " 3   CholCheck             70692 non-null  category\n",
      " 4   BMI                   68511 non-null  float64 \n",
      " 5   Smoker                70692 non-null  category\n",
      " 6   Stroke                70692 non-null  category\n",
      " 7   HeartDiseaseorAttack  70692 non-null  category\n",
      " 8   PhysActivity          70692 non-null  category\n",
      " 9   Fruits                70692 non-null  category\n",
      " 10  Veggies               70692 non-null  category\n",
      " 11  HvyAlcoholConsump     70692 non-null  category\n",
      " 12  AnyHealthcare         70692 non-null  category\n",
      " 13  NoDocbcCost           70692 non-null  category\n",
      " 14  GeneralHealth         70692 non-null  category\n",
      " 15  DaysMentalHealth      58876 non-null  float64 \n",
      " 16  DaysPhysicalHealth    60068 non-null  float64 \n",
      " 17  DiffWalk              70692 non-null  category\n",
      " 18  Sex                   70692 non-null  category\n",
      " 19  Age                   70692 non-null  category\n",
      " 20  Education             70692 non-null  category\n",
      " 21  Income                70692 non-null  category\n",
      "dtypes: category(19), float64(3)\n",
      "memory usage: 2.9 MB\n"
     ]
    }
   ],
   "source": [
    "df_diabetes_wo_outliers.info()"
   ]
  },
  {
   "cell_type": "code",
   "execution_count": 5,
   "metadata": {},
   "outputs": [
    {
     "data": {
      "image/png": "[encoded data removed]",
      "text/plain": [
       "<Figure size 1000x400 with 3 Axes>"
      ]
     },
     "metadata": {},
     "output_type": "display_data"
    }
   ],
   "source": [
    "fig, axs = plt.subplots(1, 3, figsize=(10, 4))\n",
    "\n",
    "for ax, column in zip(axs, numerical_columns):\n",
    "    sns.boxplot(data=df_diabetes_wo_outliers, x=target_column, y=column, ax=ax)\n",
    "\n",
    "plt.tight_layout()\n",
    "plt.show()"
   ]
  },
  {
   "cell_type": "code",
   "execution_count": 6,
   "metadata": {},
   "outputs": [
    {
     "data": {
      "image/png": "[encoded data removed]",
      "text/plain": [
       "<Figure size 1000x400 with 3 Axes>"
      ]
     },
     "metadata": {},
     "output_type": "display_data"
    }
   ],
   "source": [
    "fig, axs = plt.subplots(1, 3, figsize=(10, 4))\n",
    "\n",
    "for ax, column in zip(axs, numerical_columns):\n",
    "    sns.histplot(data=df_diabetes_wo_outliers, x=column, hue=target_column, kde=True, ax=ax)\n",
    "\n",
    "plt.tight_layout()\n",
    "plt.show()"
   ]
  },
  {
   "cell_type": "code",
   "execution_count": 7,
   "metadata": {},
   "outputs": [
    {
     "data": {
      "text/html": [
       "<div>\n",
       "<style scoped>\n",
       "    .dataframe tbody tr th:only-of-type {\n",
       "        vertical-align: middle;\n",
       "    }\n",
       "\n",
       "    .dataframe tbody tr th {\n",
       "        vertical-align: top;\n",
       "    }\n",
       "\n",
       "    .dataframe thead th {\n",
       "        text-align: right;\n",
       "    }\n",
       "</style>\n",
       "<table border=\"1\" class=\"dataframe\">\n",
       "  <thead>\n",
       "    <tr style=\"text-align: right;\">\n",
       "      <th></th>\n",
       "      <th>BMI</th>\n",
       "      <th>DaysMentalHealth</th>\n",
       "      <th>DaysPhysicalHealth</th>\n",
       "    </tr>\n",
       "    <tr>\n",
       "      <th>Diabetes</th>\n",
       "      <th></th>\n",
       "      <th></th>\n",
       "      <th></th>\n",
       "    </tr>\n",
       "  </thead>\n",
       "  <tbody>\n",
       "    <tr>\n",
       "      <th>No</th>\n",
       "      <td>0.714415</td>\n",
       "      <td>2.454599</td>\n",
       "      <td>2.874805</td>\n",
       "    </tr>\n",
       "    <tr>\n",
       "      <th>Yes</th>\n",
       "      <td>0.323244</td>\n",
       "      <td>2.507093</td>\n",
       "      <td>1.856026</td>\n",
       "    </tr>\n",
       "  </tbody>\n",
       "</table>\n",
       "</div>"
      ],
      "text/plain": [
       "               BMI  DaysMentalHealth  DaysPhysicalHealth\n",
       "Diabetes                                                \n",
       "No        0.714415          2.454599            2.874805\n",
       "Yes       0.323244          2.507093            1.856026"
      ]
     },
     "execution_count": 7,
     "metadata": {},
     "output_type": "execute_result"
    }
   ],
   "source": [
    "df_diabetes_wo_outliers.groupby(target_column, observed=False).skew(numeric_only=True)"
   ]
  },
  {
   "cell_type": "code",
   "execution_count": 8,
   "metadata": {},
   "outputs": [
    {
     "data": {
      "text/html": [
       "<div>\n",
       "<style scoped>\n",
       "    .dataframe tbody tr th:only-of-type {\n",
       "        vertical-align: middle;\n",
       "    }\n",
       "\n",
       "    .dataframe tbody tr th {\n",
       "        vertical-align: top;\n",
       "    }\n",
       "\n",
       "    .dataframe thead th {\n",
       "        text-align: right;\n",
       "    }\n",
       "</style>\n",
       "<table border=\"1\" class=\"dataframe\">\n",
       "  <thead>\n",
       "    <tr style=\"text-align: right;\">\n",
       "      <th></th>\n",
       "      <th>BMI</th>\n",
       "      <th>DaysMentalHealth</th>\n",
       "      <th>DaysPhysicalHealth</th>\n",
       "    </tr>\n",
       "    <tr>\n",
       "      <th>Diabetes</th>\n",
       "      <th></th>\n",
       "      <th></th>\n",
       "      <th></th>\n",
       "    </tr>\n",
       "  </thead>\n",
       "  <tbody>\n",
       "    <tr>\n",
       "      <th>No</th>\n",
       "      <td>0.481335</td>\n",
       "      <td>5.003764</td>\n",
       "      <td>8.079214</td>\n",
       "    </tr>\n",
       "    <tr>\n",
       "      <th>Yes</th>\n",
       "      <td>-0.343434</td>\n",
       "      <td>5.185706</td>\n",
       "      <td>2.367289</td>\n",
       "    </tr>\n",
       "  </tbody>\n",
       "</table>\n",
       "</div>"
      ],
      "text/plain": [
       "               BMI  DaysMentalHealth  DaysPhysicalHealth\n",
       "Diabetes                                                \n",
       "No        0.481335          5.003764            8.079214\n",
       "Yes      -0.343434          5.185706            2.367289"
      ]
     },
     "execution_count": 8,
     "metadata": {},
     "output_type": "execute_result"
    }
   ],
   "source": [
    "df_diabetes_wo_outliers.groupby(target_column, observed=False)[numerical_columns].apply(pd.DataFrame.kurtosis)"
   ]
  },
  {
   "cell_type": "code",
   "execution_count": 9,
   "metadata": {},
   "outputs": [
    {
     "data": {
      "text/html": [
       "<div>\n",
       "<style scoped>\n",
       "    .dataframe tbody tr th:only-of-type {\n",
       "        vertical-align: middle;\n",
       "    }\n",
       "\n",
       "    .dataframe tbody tr th {\n",
       "        vertical-align: top;\n",
       "    }\n",
       "\n",
       "    .dataframe thead th {\n",
       "        text-align: right;\n",
       "    }\n",
       "</style>\n",
       "<table border=\"1\" class=\"dataframe\">\n",
       "  <thead>\n",
       "    <tr style=\"text-align: right;\">\n",
       "      <th></th>\n",
       "      <th>Yes</th>\n",
       "      <th>No</th>\n",
       "    </tr>\n",
       "  </thead>\n",
       "  <tbody>\n",
       "    <tr>\n",
       "      <th>0</th>\n",
       "      <td>30.0</td>\n",
       "      <td>26.0</td>\n",
       "    </tr>\n",
       "    <tr>\n",
       "      <th>1</th>\n",
       "      <td>25.0</td>\n",
       "      <td>26.0</td>\n",
       "    </tr>\n",
       "    <tr>\n",
       "      <th>2</th>\n",
       "      <td>28.0</td>\n",
       "      <td>26.0</td>\n",
       "    </tr>\n",
       "    <tr>\n",
       "      <th>3</th>\n",
       "      <td>23.0</td>\n",
       "      <td>28.0</td>\n",
       "    </tr>\n",
       "    <tr>\n",
       "      <th>4</th>\n",
       "      <td>27.0</td>\n",
       "      <td>29.0</td>\n",
       "    </tr>\n",
       "    <tr>\n",
       "      <th>...</th>\n",
       "      <td>...</td>\n",
       "      <td>...</td>\n",
       "    </tr>\n",
       "    <tr>\n",
       "      <th>35341</th>\n",
       "      <td>37.0</td>\n",
       "      <td>23.0</td>\n",
       "    </tr>\n",
       "    <tr>\n",
       "      <th>35342</th>\n",
       "      <td>29.0</td>\n",
       "      <td>29.0</td>\n",
       "    </tr>\n",
       "    <tr>\n",
       "      <th>35343</th>\n",
       "      <td>25.0</td>\n",
       "      <td>24.0</td>\n",
       "    </tr>\n",
       "    <tr>\n",
       "      <th>35344</th>\n",
       "      <td>18.0</td>\n",
       "      <td>NaN</td>\n",
       "    </tr>\n",
       "    <tr>\n",
       "      <th>35345</th>\n",
       "      <td>25.0</td>\n",
       "      <td>20.0</td>\n",
       "    </tr>\n",
       "  </tbody>\n",
       "</table>\n",
       "<p>35346 rows × 2 columns</p>\n",
       "</div>"
      ],
      "text/plain": [
       "        Yes    No\n",
       "0      30.0  26.0\n",
       "1      25.0  26.0\n",
       "2      28.0  26.0\n",
       "3      23.0  28.0\n",
       "4      27.0  29.0\n",
       "...     ...   ...\n",
       "35341  37.0  23.0\n",
       "35342  29.0  29.0\n",
       "35343  25.0  24.0\n",
       "35344  18.0   NaN\n",
       "35345  25.0  20.0\n",
       "\n",
       "[35346 rows x 2 columns]"
      ]
     },
     "execution_count": 9,
     "metadata": {},
     "output_type": "execute_result"
    }
   ],
   "source": [
    "data_bmi_yes_wo_outliers = df_diabetes_wo_outliers.query(\"Diabetes == 'Yes'\")[\"BMI\"].values\n",
    "data_bmi_no_wo_outliers = df_diabetes_wo_outliers.query(\"Diabetes == 'No'\")[\"BMI\"].values\n",
    "\n",
    "df_bmi_wo_outliers = pd.DataFrame({\"Yes\": data_bmi_yes_wo_outliers, \"No\": data_bmi_no_wo_outliers})\n",
    "df_bmi_wo_outliers"
   ]
  },
  {
   "cell_type": "code",
   "execution_count": 14,
   "metadata": {},
   "outputs": [
    {
     "data": {
      "text/plain": [
       "30.927493165339357"
      ]
     },
     "execution_count": 14,
     "metadata": {},
     "output_type": "execute_result"
    }
   ],
   "source": [
    "df_bmi_wo_outliers['Yes'].mean()"
   ]
  },
  {
   "cell_type": "code",
   "execution_count": 11,
   "metadata": {},
   "outputs": [
    {
     "data": {
      "text/plain": [
       "27.39410195358444"
      ]
     },
     "execution_count": 11,
     "metadata": {},
     "output_type": "execute_result"
    }
   ],
   "source": [
    "df_bmi_wo_outliers[\"No\"].mean()"
   ]
  },
  {
   "cell_type": "code",
   "execution_count": 15,
   "metadata": {},
   "outputs": [
    {
     "name": "stdout",
     "output_type": "stream",
     "text": [
      "KstestResult(statistic=0.10815079726309113, pvalue=0.0, statistic_location=27.0, statistic_sign=1)\n",
      "KstestResult(statistic=0.07345716240963451, pvalue=2.3370072025211114e-158, statistic_location=30.0, statistic_sign=1)\n"
     ]
    }
   ],
   "source": [
    "print(\n",
    "    kstest(\n",
    "        df_bmi_wo_outliers[\"No\"], \n",
    "        norm.cdf, \n",
    "        args=(df_bmi_wo_outliers[\"No\"].mean(), \n",
    "              df_bmi_wo_outliers[\"No\"].std()), \n",
    "        nan_policy=\"omit\")\n",
    ")\n",
    "\n",
    "print(\n",
    "    kstest(\n",
    "        df_bmi_wo_outliers[\"Yes\"], \n",
    "        norm.cdf, \n",
    "        args=(df_bmi_wo_outliers[\"Yes\"].mean(), \n",
    "              df_bmi_wo_outliers[\"Yes\"].std()), \n",
    "        nan_policy=\"omit\")\n",
    ")"
   ]
  },
  {
   "cell_type": "code",
   "execution_count": 16,
   "metadata": {},
   "outputs": [
    {
     "name": "stdout",
     "output_type": "stream",
     "text": [
      "Levene's Test\n",
      "statistics_levene=532.986\n",
      "At least one variance is different (p-value: 0.000)\n"
     ]
    }
   ],
   "source": [
    "levene_analysis(df_bmi_wo_outliers, center=\"median\")"
   ]
  },
  {
   "cell_type": "code",
   "execution_count": 17,
   "metadata": {},
   "outputs": [
    {
     "name": "stdout",
     "output_type": "stream",
     "text": [
      "Student's t-test\n",
      "statistics_ttest=85.248\n",
      "Rejects the null hypothesis (p-value: 0.000)\n"
     ]
    }
   ],
   "source": [
    "ttest_ind_analysis(df_bmi_wo_outliers, equal_variances=False)"
   ]
  },
  {
   "cell_type": "code",
   "execution_count": 18,
   "metadata": {},
   "outputs": [
    {
     "name": "stdout",
     "output_type": "stream",
     "text": [
      "Mann-Whitney's Test\n",
      "statistics_mw=801702843.000\n",
      "Rejects the null hypothesis (p-value: 0.000)\n"
     ]
    }
   ],
   "source": [
    "mannwhitneyu_analysis(df_bmi_wo_outliers)"
   ]
  },
  {
   "cell_type": "markdown",
   "metadata": {},
   "source": [
    "Links e artigos sobre testes de hipótese em datasets grandes:\n",
    "\n",
    "- https://stats.stackexchange.com/questions/2492/is-normality-testing-essentially-useless\n",
    "- https://www.ncbi.nlm.nih.gov/pmc/articles/PMC3693611/pdf/ijem-10-486.pdf\n",
    "- https://www.bmj.com/content/bmj/310/6975/298.full.pdf\n",
    "- https://bmcmedresmethodol.biomedcentral.com/articles/10.1186/1471-2288-12-81"
   ]
  }
 ],
 "metadata": {
  "kernelspec": {
   "display_name": "Python 3",
   "language": "python",
   "name": "python3"
  },
  "language_info": {
   "codemirror_mode": {
    "name": "ipython",
    "version": 3
   },
   "file_extension": ".py",
   "mimetype": "text/x-python",
   "name": "python",
   "nbconvert_exporter": "python",
   "pygments_lexer": "ipython3",
   "version": "3.11.5"
  }
 },
 "nbformat": 4,
 "nbformat_minor": 2
}
